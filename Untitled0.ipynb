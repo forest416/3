{
  "nbformat": 4,
  "nbformat_minor": 0,
  "metadata": {
    "colab": {
      "name": "Untitled0.ipynb",
      "provenance": [],
      "collapsed_sections": [],
      "authorship_tag": "ABX9TyPit3QtS6RVqSwZbWeYobrT",
      "include_colab_link": true
    },
    "kernelspec": {
      "name": "python3",
      "display_name": "Python 3"
    },
    "language_info": {
      "name": "python"
    }
  },
  "cells": [
    {
      "cell_type": "markdown",
      "metadata": {
        "id": "view-in-github",
        "colab_type": "text"
      },
      "source": [
        "<a href=\"https://colab.research.google.com/github/forest416/3/blob/main/Untitled0.ipynb\" target=\"_parent\"><img src=\"https://colab.research.google.com/assets/colab-badge.svg\" alt=\"Open In Colab\"/></a>"
      ]
    },
    {
      "cell_type": "code",
      "metadata": {
        "id": "CK6PJjuRY7be"
      },
      "source": [
        "import numpy as np\n",
        "import matplotlib.pyplot as plt \n",
        "\n",
        "siz = 200\n",
        "cycles = 30\n",
        "sig = np.zeros((3,siz))\n",
        "sig[0,:] = np.sin(np.arange(len(sig[0])) * np.pi/siz*2*cycles) \n",
        "rands = np.zeros((3,siz))\n",
        "rands[0,:] = np.random.standard_normal(siz)\n",
        "rands[1,:] = np.random.standard_normal(siz)\n",
        "rands[2,:] = np.random.standard_normal(siz)\n",
        "plt.plot(rands[0,:])\n",
        "#print (rands)\n",
        "#print (sig)\n",
        "plt.plot(sig[0,:])\n"
      ],
      "execution_count": null,
      "outputs": []
    },
    {
      "cell_type": "markdown",
      "metadata": {
        "id": "5MDkSyTqbjP0"
      },
      "source": [
        "Show combine of sine and noise"
      ]
    },
    {
      "cell_type": "code",
      "metadata": {
        "id": "r_IxCzebbK3N"
      },
      "source": [
        "sig[0,:] = sig[0,:] + rands[0]\n",
        "plt.plot(sig[0,:])"
      ],
      "execution_count": null,
      "outputs": []
    }
  ]
}